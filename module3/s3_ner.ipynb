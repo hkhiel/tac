{
 "metadata": {
  "language_info": {
   "codemirror_mode": {
    "name": "ipython",
    "version": 3
   },
   "file_extension": ".py",
   "mimetype": "text/x-python",
   "name": "python",
   "nbconvert_exporter": "python",
   "pygments_lexer": "ipython3",
   "version": "3.8.6-final"
  },
  "orig_nbformat": 2,
  "kernelspec": {
   "name": "Python 3.8.6 64-bit ('nlp_env')",
   "display_name": "Python 3.8.6 64-bit ('nlp_env')",
   "metadata": {
    "interpreter": {
     "hash": "f3887a1704196b7a7713c7716e1b8e8ae582b1c59f34920cbd3915e50d7a3d9f"
    }
   }
  }
 },
 "nbformat": 4,
 "nbformat_minor": 2,
 "cells": [
  {
   "source": [
    "# Named-entity recognition with SpaCy année 1903"
   ],
   "cell_type": "markdown",
   "metadata": {}
  },
  {
   "cell_type": "code",
   "execution_count": 7,
   "metadata": {},
   "outputs": [],
   "source": [
    "from collections import defaultdict\n",
    "import sys\n",
    "\n",
    "import spacy\n",
    "from spacy.lang.fr.examples import sentences"
   ]
  },
  {
   "source": [
    "Pour installer les modèles Spacy en français : `python -m spacy download fr_core_news_sm`"
   ],
   "cell_type": "markdown",
   "metadata": {
    "tags": []
   }
  },
  {
   "cell_type": "code",
   "execution_count": 8,
   "metadata": {},
   "outputs": [],
   "source": [
    "nlp = spacy.load('fr_core_news_sm')"
   ]
  },
  {
   "source": [
    "# Exemple sur un corpus de Spacy"
   ],
   "cell_type": "markdown",
   "metadata": {}
  },
  {
   "source": [
    "def test():\n",
    "    \"\"\"Basic test on sample sentences\"\"\"\n",
    "    for sent in sentences:\n",
    "        doc = nlp(sent)\n",
    "        entities = []\n",
    "        for ent in doc.ents:\n",
    "            entities.append(f\"{ent.text} ({ent.label_})\")\n",
    "        if entities:\n",
    "            print(f\"'{doc.text}' contains the following entities: {', '.join(entities)}\")\n",
    "        else:\n",
    "            print(f\"'{doc.text}' contains no entities\")"
   ],
   "cell_type": "code",
   "metadata": {},
   "execution_count": 9,
   "outputs": []
  },
  {
   "cell_type": "code",
   "execution_count": 10,
   "metadata": {},
   "outputs": [],
   "source": [
    "def search_people(n=1000000):\n",
    "    text = open(\"1903_keywords.txt\", encoding='utf-8').read()[:n]\n",
    "    doc = nlp(text)\n",
    "    people = defaultdict(int)\n",
    "    for ent in doc.ents:\n",
    "        if ent.label_ == \"PER\" and len(ent.text) > 3:\n",
    "            people[ent.text] += 1\n",
    "    sorted_people = sorted(people.items(), key=lambda kv: kv[1], reverse=True)\n",
    "    for person, freq in sorted_people[:20]:\n",
    "        print(f\"{person} appears {freq} times in the corpus\")"
   ]
  },
  {
   "cell_type": "code",
   "execution_count": 11,
   "metadata": {},
   "outputs": [],
   "source": [
    "def search_locations(n=1000000):\n",
    "    text = open(\"1903_keywords.txt\", encoding='utf-8').read()[:n]\n",
    "    doc = nlp(text)\n",
    "    location = defaultdict(int)\n",
    "    for ent in doc.ents:\n",
    "        if ent.label_ == \"LOC\" and len(ent.text) > 3:\n",
    "            location[ent.text] += 1\n",
    "    sorted_location = sorted(location.items(), key=lambda kv: kv[1], reverse=True)\n",
    "    for location, freq in sorted_location[:20]:\n",
    "        print(f\"{location} appears {freq} times in the corpus\")"
   ]
  },
  {
   "cell_type": "code",
   "execution_count": 12,
   "metadata": {},
   "outputs": [],
   "source": [
    "def search_organisation(n=1000000):\n",
    "    text = open(\"1903_keywords.txt\", encoding='utf-8').read()[:n]\n",
    "    doc = nlp(text)\n",
    "    organisation = defaultdict(int)\n",
    "    for ent in doc.ents:\n",
    "        if ent.label_ == \"ORG\" and len(ent.text) > 3:\n",
    "            organisation[ent.text] += 1\n",
    "    sorted_organisation = sorted(organisation.items(), key=lambda kv: kv[1], reverse=True)\n",
    "    for organisation, freq in sorted_organisation[:20]:\n",
    "        print(f\"{organisation} appears {freq} times in the corpus\")"
   ]
  },
  {
   "cell_type": "code",
   "execution_count": 13,
   "metadata": {},
   "outputs": [
    {
     "output_type": "execute_result",
     "data": {
      "text/plain": [
       "('LOC', 'MISC', 'ORG', 'PER')"
      ]
     },
     "metadata": {},
     "execution_count": 13
    }
   ],
   "source": [
    "nlp.entity.labels"
   ]
  },
  {
   "source": [
    "## NER sur le corpus des bulletins communaux\n",
    "\n",
    "### Trouver les personnes, organisations et endroits les plus populaires."
   ],
   "cell_type": "markdown",
   "metadata": {}
  },
  {
   "cell_type": "code",
   "execution_count": 14,
   "metadata": {
    "tags": []
   },
   "outputs": [
    {
     "output_type": "stream",
     "name": "stdout",
     "text": [
      "renvoi appears 19 times in the corpus\nhectare appears 18 times in the corpus\nroger grimberghe appears 18 times in the corpus\nloyer appears 15 times in the corpus\nlemonnier appears 14 times in the corpus\nvoulez appears 14 times in the corpus\nbrabandt appears 14 times in the corpus\ngrimard hallet appears 13 times in the corpus\ngrimard appears 13 times in the corpus\nverheven bosquet appears 13 times in the corpus\nsolde appears 13 times in the corpus\nvandenbosch lemonnier appears 10 times in the corpus\nhubert appears 10 times in the corpus\nmichel gudule appears 9 times in the corpus\nlorsqu appears 9 times in the corpus\nwauwermans appears 9 times in the corpus\ntheodor locht appears 8 times in the corpus\nbrabandt theodor locht appears 8 times in the corpus\nsaint gilles appears 8 times in the corpus\nbrabandt locht appears 6 times in the corpus\n"
     ]
    }
   ],
   "source": [
    "search_people()"
   ]
  },
  {
   "cell_type": "code",
   "execution_count": 15,
   "metadata": {},
   "outputs": [
    {
     "output_type": "stream",
     "name": "stdout",
     "text": [
      "bruxelles appears 389 times in the corpus\nétat appears 40 times in the corpus\nbruxellois appears 27 times in the corpus\nlaeken appears 15 times in the corpus\netat appears 14 times in the corpus\nlondres appears 12 times in the corpus\nbelgique appears 8 times in the corpus\nrue lombard appears 7 times in the corpus\nétonne appears 4 times in the corpus\nparis appears 4 times in the corpus\ncanal charleroi appears 4 times in the corpus\nboulevard senne appears 4 times in the corpus\nrue minimes appears 3 times in the corpus\nliège appears 3 times in the corpus\nbalais appears 3 times in the corpus\ncanal willebroeck appears 3 times in the corpus\nlambrecht appears 3 times in the corpus\nrue treurenberg appears 3 times in the corpus\nrue madeleine appears 3 times in the corpus\nfinistère appears 3 times in the corpus\n"
     ]
    }
   ],
   "cell_type": "markdown",
   "metadata": {}
  },
  {
   "cell_type": "code",
   "execution_count": null,
   "metadata": {},
   "outputs": [],
   "source": [
    "# Charger le texte\n",
    "\n",
    "n=1000000\n",
    "text = open(\"../data/all.txt\", encoding='utf-8').read()[:n]"
   ]
  },
  {
   "cell_type": "code",
   "execution_count": null,
   "metadata": {},
   "outputs": [],
   "source": [
    "%%time\n",
    "# Traiter le texte\n",
    "\n",
    "doc = nlp(text)"
   ]
  },
  {
   "cell_type": "code",
   "execution_count": null,
   "metadata": {},
   "outputs": [],
   "source": [
    "search_locations()"
   ]
  },
  {
   "cell_type": "code",
   "execution_count": 16,
   "metadata": {},
   "outputs": [
    {
     "output_type": "stream",
     "name": "stdout",
     "text": [
      "crédit supplémentaire francs appears 6 times in the corpus\nacte seing appears 5 times in the corpus\nlegs genechten appears 3 times in the corpus\nsection police appears 3 times in the corpus\nsis schaerbeek appears 3 times in the corpus\ntreurenberg appears 3 times in the corpus\nlegs brugmann appears 3 times in the corpus\nunion syndicale appears 3 times in the corpus\nacte seing privé contenance appears 2 times in the corpus\nconrardy conrardy appears 2 times in the corpus\nlegs appears 2 times in the corpus\nécole normale appears 2 times in the corpus\nhospice pachéco appears 2 times in the corpus\ncommission spéciale appears 2 times in the corpus\nlegs dauwé appears 2 times in the corpus\nréparation église appears 2 times in the corpus\ncrédit supplémentaire exercice appears 2 times in the corpus\ngroupe socialiste appears 2 times in the corpus\nlocht appears 2 times in the corpus\nwoluwe saint appears 2 times in the corpus\n"
     ]
    }
   ],
   "source": [
    "search_organisation()"
   ]
  }
 ]
}