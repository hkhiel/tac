{
 "cells": [
  {
   "cell_type": "markdown",
   "metadata": {},
   "source": [
    "# Testing keyword extraction with YAKE"
   ]
  },
  {
   "cell_type": "code",
   "execution_count": null,
   "metadata": {},
   "outputs": [],
   "source": [
    "import os\n",
    "import yake"
   ]
  },
  {
   "cell_type": "markdown",
   "metadata": {},
   "source": [
    "## Extraire les mots clés des documents avec YAKE"
   ]
  },
  {
   "cell_type": "code",
   "execution_count": null,
   "metadata": {
    "tags": []
   },
   "outputs": [
    {
     "name": "stdout",
     "output_type": "stream",
     "text": [
      "Bxl_1903_Tome_I1_Part_1.txt mentions these keywords: ville de bruxelles, collège a l'honneur, avis favorable...\n",
      "Bxl_1903_Tome_I1_Part_2.txt mentions these keywords: dépenses ordinaires, voie publique...\n",
      "Bxl_1903_Tome_I1_Part_3.txt mentions these keywords: collège a l'honneur, vote d'un crédit, ville de bruxelles...\n",
      "Bxl_1903_Tome_I1_Part_4.txt mentions these keywords: dépenses extraordinaires, recettes ordinaires, ville de bruxelles, intérêts d'autres fonds, dépenses ordinaires...\n",
      "Bxl_1903_Tome_I1_Part_5.txt mentions these keywords: minimum de salaire, ville de bruxelles, personnel ouvrier...\n",
      "Bxl_1903_Tome_I1_Part_6.txt mentions these keywords: conseil des hospices, commission administrative, l'echevin lepage...\n",
      "Bxl_1903_Tome_I1_Part_7.txt mentions these keywords: commission administrative, voir tableau, propriétés urbaines, propriétés rurales, nue propriété, frais d'administration générale...\n",
      "Bxl_1903_Tome_I1_Part_8.txt mentions these keywords: montant montant montant, quantité montant quantité, quantité montant montant, montant quantité montant, montant montant, maison rue, voir tableau, hôpital roger...\n",
      "Bxl_1903_Tome_I1_Part_9.txt mentions these keywords: avis favorable, nommée sous-institutrice primaire, concession de terrain, terrain rue, terrain pour sépulture, sous-institutrice primaire, nommée sous-institutrice...\n",
      "Bxl_1903_Tome_I2_1_Part_1.txt mentions these keywords: collège a l'honneur, avis favorable...\n",
      "Bxl_1903_Tome_I2_1_Part_10.txt mentions these keywords: avis favorable, l'echevin lepage...\n",
      "Bxl_1903_Tome_I2_1_Part_2.txt mentions these keywords: service technique...\n",
      "Bxl_1903_Tome_I2_1_Part_3.txt mentions these keywords: service extraordinaire, service ordinaire, collège a l'honneur, avis favorable, conseil général sollicite...\n",
      "Bxl_1903_Tome_I2_1_Part_4.txt mentions these keywords: commission administrative, entretien et réparation, ville île bruxelles, bruxelles d'une partie...\n",
      "Bxl_1903_Tome_I2_1_Part_5.txt mentions these keywords: divisions territoriales, maladies décès divisions, divisions territoriales causes, décès divisions territoriales, classe pauvre, causes de décès...\n",
      "Bxl_1903_Tome_I2_1_Part_6.txt mentions these keywords: voie publique, rue van, rue rue haute, rue van ostade, lois rue rue, rue rue, rue van campenhout, total mètres carrés, total mètres...\n",
      "Bxl_1903_Tome_I2_1_Part_7.txt mentions these keywords: jeunes filles, l'école moyenne, comités scolaires, l'année scolaire 1902-1903...\n",
      "Bxl_1903_Tome_I2_1_Part_8.txt mentions these keywords: paiement d'une somme, assigné la ville, d'une somme...\n",
      "Bxl_1903_Tome_I2_1_Part_9.txt mentions these keywords: l'echevin steens, section des finances, dépenses ordinaires, recettes ordinaires, l'echevin lepage...\n",
      "Bxl_1903_Tome_I2_2_Part_1.txt mentions these keywords: revenu cadastral, d'un revenu cadastral, francs francs, recettes ordinaires...\n",
      "Bxl_1903_Tome_I2_2_Part_10.txt mentions these keywords: voir bulletin communal, bulletin communal, voir bulletin, maison rue, crédit communal...\n",
      "Bxl_1903_Tome_I2_2_Part_11.txt mentions these keywords: maison rue, avis favorable, terrain rue, concession de terrain, maison rue van, rue van artevelde, sous-institutrice primaire, nommée sous-institutrice primaire...\n",
      "Bxl_1903_Tome_I2_2_Part_12.txt mentions these keywords: ...\n",
      "Bxl_1903_Tome_I2_2_Part_2.txt mentions these keywords: d'une usine, d'une nouvelle usine, nouvelle usine, construction d'une usine...\n",
      "Bxl_1903_Tome_I2_2_Part_3.txt mentions these keywords: partie électrique, société belge d'électricité, partie mécanique, société belge, machines van den...\n",
      "Bxl_1903_Tome_I2_2_Part_4.txt mentions these keywords: service technique, machine sulzer...\n",
      "Bxl_1903_Tome_I2_2_Part_5.txt mentions these keywords: câbles câbles câbles, diviseurs de tension, câbles câbles...\n",
      "Bxl_1903_Tome_I2_2_Part_6.txt mentions these keywords: courant continu, montant désignation, haute tension, ville de bruxelles...\n",
      "Bxl_1903_Tome_I2_2_Part_7.txt mentions these keywords: courant continu, l'echevin lepage...\n",
      "Bxl_1903_Tome_I2_2_Part_8.txt mentions these keywords: allocations dépenses allocations, allocations dépenses...\n",
      "Bxl_1903_Tome_I2_2_Part_9.txt mentions these keywords: entretien des toitures, entretien entretien, recette effectuée, évaluations recettes...\n",
      "Bxl_1903_Tome_II1_Part_1.txt mentions these keywords: l'hôtel de ville, collège des bourgmestre, bourgmestre et echevins, ville jusqu'au, heures et demie, heures du matin, ville jusqu'au jour...\n",
      "Bxl_1903_Tome_II1_Part_2.txt mentions these keywords: l'hôtel de ville, bourgmestre et echevins, collège des bourgmestre, école professionnelle rue, rue haute...\n"
     ]
    }
   ],
   "source": [
    "# Faire une liste des mots à ignorer\n",
    "ignored = set([\"conseil communal\", \"conseil général\"])\n",
    "ignored"
   ]
  },
  {
   "cell_type": "code",
   "execution_count": null,
   "metadata": {},
   "outputs": [],
   "source": [
    "# Instantier l'extracteur de mots clés\n",
    "kw_extractor = yake.KeywordExtractor(lan=\"fr\", top=20)\n",
    "data_path = \"../data/bulletins/\"\n",
    "files = os.listdir(data_path)\n",
    "for f in sorted(files):\n",
    "    if f.startswith(\"Bxl_1903\"):\n",
    "        text = open(f'{data_path}/{f}', encoding='utf-!').read()\n",
    "        keywords = kw_extractor.extract_keywords(text)\n",
    "        kept = []\n",
    "        for score, kw in keywords:\n",
    "            words = kw.split()\n",
    "            if len(words) > 1 and kw not in ignored:\n",
    "                kept.append(kw)\n",
    "        print(f\"{f} mentions these keywords: {', '.join(kept)}...\")"
   ]
  },
  {
   "cell_type": "code",
   "execution_count": null,
   "metadata": {},
   "outputs": [],
   "source": []
  }
 ],
 "metadata": {
  "kernelspec": {
   "display_name": "Python 3",
   "language": "python",
   "name": "python3"
  },
  "language_info": {
   "codemirror_mode": {
    "name": "ipython",
    "version": 3
   },
   "file_extension": ".py",
   "mimetype": "text/x-python",
   "name": "python",
   "nbconvert_exporter": "python",
   "pygments_lexer": "ipython3",
   "version": "3.7.7"
  }
 },
 "nbformat": 4,
 "nbformat_minor": 4
}
