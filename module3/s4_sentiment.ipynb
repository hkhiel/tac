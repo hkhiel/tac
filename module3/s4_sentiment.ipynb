{
 "metadata": {
  "language_info": {
   "codemirror_mode": {
    "name": "ipython",
    "version": 3
   },
   "file_extension": ".py",
   "mimetype": "text/x-python",
   "name": "python",
   "nbconvert_exporter": "python",
   "pygments_lexer": "ipython3",
   "version": "3.8.6-final"
  },
  "orig_nbformat": 2,
  "kernelspec": {
   "name": "Python 3.8.6 64-bit ('nlp_env')",
   "display_name": "Python 3.8.6 64-bit ('nlp_env')",
   "metadata": {
    "interpreter": {
     "hash": "f3887a1704196b7a7713c7716e1b8e8ae582b1c59f34920cbd3915e50d7a3d9f"
    }
   }
  }
 },
 "nbformat": 4,
 "nbformat_minor": 2,
 "cells": [
  {
   "source": [
    "# Sentiment analysis with Textblob-FR"
   ],
   "cell_type": "markdown",
   "metadata": {}
  },
  {
   "cell_type": "code",
   "execution_count": 1,
   "metadata": {},
   "outputs": [],
   "source": [
    "import sys\n",
    "\n",
    "from textblob import Blobber\n",
    "from textblob_fr import PatternTagger, PatternAnalyzer"
   ]
  },
  {
   "source": [
    "## Fonction"
   ],
   "cell_type": "markdown",
   "metadata": {}
  },
  {
   "cell_type": "code",
   "execution_count": 2,
   "metadata": {},
   "outputs": [],
   "source": [
    "text = open('1903.txt', 'w', encoding= 'utf-8')\n"
   ]
  },
  {
   "cell_type": "code",
   "execution_count": 3,
   "metadata": {},
   "outputs": [
    {
     "output_type": "execute_result",
     "data": {
      "text/plain": [
       "<_io.TextIOWrapper name='1903.txt' mode='w' encoding='utf-8'>"
      ]
     },
     "metadata": {},
     "execution_count": 3
    }
   ],
   "source": [
    "text"
   ]
  },
  {
   "cell_type": "code",
   "execution_count": 4,
   "metadata": {},
   "outputs": [],
   "source": [
    "tb = Blobber(pos_tagger=PatternTagger(), analyzer=PatternAnalyzer())\n",
    "\n",
    "def get_sentiment(input_text):\n",
    "    blob = tb(input_text)\n",
    "    pola, subj = blob.sentiment\n",
    "    perc = f\"{100*abs(pola):.0f}\"\n",
    "    if pola > 0:\n",
    "        sent = f\"{perc}% positive\"\n",
    "    elif pola < 0:\n",
    "        sent = f\"{perc}% negative\"\n",
    "    else:\n",
    "        sent = \"neutral\"\n",
    "    if subj > 0:\n",
    "        fact = f\"{100*subj:.0f}% subjective\"\n",
    "    else:\n",
    "        fact = \"perfectly objective\"\n",
    "    print(f\"This text is {sent} and {fact}.\")"
   ]
  },
  {
   "source": [
    "## Analyser le sentiment d'une phrase"
   ],
   "cell_type": "markdown",
   "metadata": {}
  },
  {
   "cell_type": "code",
   "execution_count": 5,
   "metadata": {
    "tags": []
   },
   "outputs": [
    {
     "output_type": "stream",
     "name": "stdout",
     "text": [
      "This text is 25% positive and 48% subjective.\n"
     ]
    }
   ],
   "source": [
    "get_sentiment(\"Soyons sérieux et n'essayons pas de rendre le Collège responsable des cancans que leurs auteurs mêmes démentent le lendemain. \")"
   ]
  },
  {
   "cell_type": "code",
   "execution_count": 6,
   "metadata": {
    "tags": []
   },
   "outputs": [
    {
     "output_type": "stream",
     "name": "stdout",
     "text": [
      "This text is neutral and perfectly objective.\n"
     ]
    }
   ],
   "source": [
    "get_sentiment(\"Il faut croire qu'il en était ainsi puisque la presse l'a dit, et que c'est moi qui ai eu tort de ne pas partir.\")"
   ]
  },
  {
   "cell_type": "code",
   "execution_count": 7,
   "metadata": {},
   "outputs": [
    {
     "output_type": "stream",
     "name": "stdout",
     "text": [
      "This text is 15% positive and 22% subjective.\n"
     ]
    }
   ],
   "source": [
    "get_sentiment(\"J'ai donc le droit de dire que nous avons tiré de la situation le meilleur parti possible.\")\n",
    "get_sentiment(\"M. Conrardy se trompe complètement; il a négligé de lire le cahier des charges.\")\n",
    "get_sentiment(\"Il faut croire qu'il en était ainsi puisque la presse l'a dit, et que c'est moi qui ai eu tort de ne pas partir.\")\n",
    "get_sentiment(\"Soyons sérieux et n'essayons pas de rendre le Collège responsable des cancans que leurs auteurs mêmes démentent le lendemain. \")"
   ]
  },
  {
   "cell_type": "code",
   "execution_count": 8,
   "metadata": {},
   "outputs": [
    {
     "output_type": "stream",
     "name": "stdout",
     "text": [
      "This text is 10% positive and 75% subjective.\n"
     ]
    }
   ],
   "source": [
    "get_sentiment(\"M. Conrardy se trompe complètement; il a négligé de lire le cahier des charges.\")"
   ]
  },
  {
   "cell_type": "code",
   "execution_count": 9,
   "metadata": {},
   "outputs": [
    {
     "output_type": "stream",
     "name": "stdout",
     "text": [
      "This text is 18% positive and 42% subjective.\n"
     ]
    }
   ],
   "source": [
    "get_sentiment(\"Cet exemple d é m o n t r e qu'on peut exiger l'examen des livres et je suis convaincu que les bons patrons, ceux qui sont soucieux de leurs intérêts comme de l ' i n t é r ê t de leurs ouvriers, ne se soustrairont pas à cet examen.\")"
   ]
  },
  {
   "cell_type": "code",
   "execution_count": 10,
   "metadata": {},
   "outputs": [
    {
     "output_type": "stream",
     "name": "stdout",
     "text": [
      "This text is 8% positive and 45% subjective.\n"
     ]
    }
   ],
   "source": [
    "get_sentiment(\"Quand l'orchestre n'est pas bon, nous sommes les premiers à protester.\")"
   ]
  },
  {
   "cell_type": "code",
   "execution_count": 11,
   "metadata": {},
   "outputs": [
    {
     "output_type": "stream",
     "name": "stdout",
     "text": [
      "This text is 39% positive and 37% subjective.\n"
     ]
    }
   ],
   "source": [
    "get_sentiment(\"Il faut donc des écoles professionnelles pour leur permettre d'acquérir les notions nécessaires et pour qu'ils puissent devenir de bons ouvriers par la suite.\")"
   ]
  },
  {
   "cell_type": "code",
   "execution_count": 12,
   "metadata": {},
   "outputs": [
    {
     "output_type": "stream",
     "name": "stdout",
     "text": [
      "This text is 30% positive and 35% subjective.\n"
     ]
    }
   ],
   "source": [
    "get_sentiment(\"Vous n'avez qu'à avaler votre bon Dieu vous-même et ne pas le faire avaler à d'autres.\")"
   ]
  },
  {
   "cell_type": "code",
   "execution_count": 13,
   "metadata": {},
   "outputs": [
    {
     "output_type": "stream",
     "name": "stdout",
     "text": [
      "This text is 10% positive and 36% subjective.\n"
     ]
    }
   ],
   "source": [
    "get_sentiment(\"Nous nageons si peu dans l'or que si notre budget, tel qu'il nous est présenté, sans même parler des imputations abusives dont je viens de vous parler, solde en boni, c'est grâce aux aumônes d'un généreux philanthrope, qui n'a certes jamais prévu que sa libéralité servirait d'abord à combler le déficit de la Ville \")"
   ]
  },
  {
   "cell_type": "code",
   "execution_count": 17,
   "metadata": {},
   "outputs": [
    {
     "output_type": "stream",
     "name": "stdout",
     "text": [
      "This text is 30% positive and 38% subjective.\nThis text is 18% positive and 42% subjective.\nThis text is 8% positive and 45% subjective.\nThis text is 39% positive and 37% subjective.\nThis text is 30% positive and 35% subjective.\nThis text is 70% positive and 70% subjective.\nThis text is 10% positive and 36% subjective.\nThis text is 15% positive and 22% subjective.\nThis text is 10% positive and 75% subjective.\nThis text is neutral and perfectly objective.\nThis text is 25% positive and 48% subjective.\n"
     ]
    }
   ],
   "source": [
    "get_sentiment(\"Il importe de bien préciser que pour être primé un projet ne doit pas se borner à. être purement théorique, mais i l faut qu'il soit complet, parfaitement étudié et de nature à être exécuté dans de bonnes conditions de rendement industriel.\")\n",
    "get_sentiment(\"Cet exemple d é m o n t r e qu'on peut exiger l'examen des livres et je suis convaincu que les bons patrons, ceux qui sont soucieux de leurs intérêts comme de l ' i n t é r ê t de leurs ouvriers, ne se soustrairont pas à cet examen.\")\n",
    "get_sentiment(\"Quand l'orchestre n'est pas bon, nous sommes les premiers à protester.\")\n",
    "get_sentiment(\"Il faut donc des écoles professionnelles pour leur permettre d'acquérir les notions nécessaires et pour qu'ils puissent devenir de bons ouvriers par la suite.\")\n",
    "get_sentiment(\"Vous n'avez qu'à avaler votre bon Dieu vous-même et ne pas le faire avaler à d'autres.\")\n",
    "get_sentiment(\"Je crois que ce système donnerait de bons résultats.\")\n",
    "get_sentiment(\"Nous nageons si peu dans l'or que si notre budget, tel qu'il nous est présenté, sans même parler des imputations abusives dont je viens de vous parler, solde en boni, c'est grâce aux aumônes d'un généreux philanthrope, qui n'a certes jamais prévu que sa libéralité servirait d'abord à combler le déficit de la Ville \")\n",
    "get_sentiment(\"J'ai donc le droit de dire que nous avons tiré de la situation le meilleur parti possible.\")\n",
    "get_sentiment(\"M. Conrardy se trompe complètement; il a négligé de lire le cahier des charges.\")\n",
    "get_sentiment(\"Il faut croire qu'il en était ainsi puisque la presse l'a dit, et que c'est moi qui ai eu tort de ne pas partir.\")\n",
    "get_sentiment(\"Soyons sérieux et n'essayons pas de rendre le Collège responsable des cancans que leurs auteurs mêmes démentent le lendemain. \")"
   ]
  },
  {
   "cell_type": "code",
   "execution_count": 15,
   "metadata": {},
   "outputs": [
    {
     "output_type": "stream",
     "name": "stdout",
     "text": [
      "This text is 70% positive and 70% subjective.\n"
     ]
    }
   ],
   "source": [
    "get_sentiment(\"Je crois que ce système donnerait de bons résultats.\")"
   ]
  },
  {
   "cell_type": "code",
   "execution_count": null,
   "metadata": {},
   "outputs": [],
   "source": []
  }
 ]
}