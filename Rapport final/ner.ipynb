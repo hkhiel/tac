{
 "metadata": {
  "language_info": {
   "codemirror_mode": {
    "name": "ipython",
    "version": 3
   },
   "file_extension": ".py",
   "mimetype": "text/x-python",
   "name": "python",
   "nbconvert_exporter": "python",
   "pygments_lexer": "ipython3",
   "version": "3.8.6-final"
  },
  "orig_nbformat": 2,
  "kernelspec": {
   "name": "python3",
   "display_name": "Python 3",
   "language": "python"
  }
 },
 "nbformat": 4,
 "nbformat_minor": 2,
 "cells": [
  {
   "source": [
    "## Named entity Recognition:\n",
    "\n",
    "Méthode NER pour la detection de locations et organisations des années 1849 et 1949.\n",
    "\n",
    "\n"
   ],
   "cell_type": "markdown",
   "metadata": {}
  },
  {
   "cell_type": "code",
   "execution_count": 1,
   "metadata": {},
   "outputs": [],
   "source": [
    "\"\"\"Named-entity recognition with SpaCy\"\"\"\n",
    "\n",
    "from collections import defaultdict\n",
    "import sys\n",
    "\n",
    "import spacy\n",
    "from spacy.lang.fr.examples import sentences \n",
    "\n",
    "nlp = spacy.load('fr_core_news_sm')"
   ]
  },
  {
   "cell_type": "code",
   "execution_count": 13,
   "metadata": {},
   "outputs": [
    {
     "output_type": "execute_result",
     "data": {
      "text/plain": [
       "1082350"
      ]
     },
     "metadata": {},
     "execution_count": 13
    }
   ],
   "source": [
    "text = open(\"1849_keywords.txt\", encoding='utf-8').read()\n",
    "\n",
    "len(text)"
   ]
  },
  {
   "cell_type": "code",
   "execution_count": 12,
   "metadata": {},
   "outputs": [],
   "source": [
    "nlp.max_length = 15000000"
   ]
  },
  {
   "source": [
    "# Année 1849"
   ],
   "cell_type": "markdown",
   "metadata": {}
  },
  {
   "source": [
    "## Locations"
   ],
   "cell_type": "markdown",
   "metadata": {}
  },
  {
   "cell_type": "code",
   "execution_count": 10,
   "metadata": {},
   "outputs": [
    {
     "output_type": "stream",
     "name": "stdout",
     "text": [
      "Bruxelles appears 311 times in the corpus\nCollège appears 245 times in the corpus\nAdopté appears 92 times in the corpus\nFrais appears 86 times in the corpus\nGrand'Place appears 55 times in the corpus\nMastraeten appears 52 times in the corpus\nWatteeu appears 49 times in the corpus\nDoucet appears 45 times in the corpus\nrue Royale appears 42 times in the corpus\nVanderlinden appears 40 times in the corpus\nWAEFELAER appears 40 times in the corpus\nBlaes appears 38 times in the corpus\nParc appears 38 times in the corpus\nÉchevins appears 37 times in the corpus\nTraitement appears 36 times in the corpus\nDépenses appears 35 times in the corpus\nOrts appears 34 times in the corpus\nQuai appears 33 times in the corpus\nVandermeeren appears 31 times in the corpus\nCapouillet appears 30 times in the corpus\n"
     ]
    }
   ],
   "source": [
    "def search_locations(n=10**8):\n",
    "    text = open(\"1849.txt\", encoding='utf-8').read()\n",
    "    doc = nlp(text)\n",
    "    location = defaultdict(int)\n",
    "    for ent in doc.ents:\n",
    "        if ent.label_ == \"LOC\" and len(ent.text) > 3:\n",
    "            location[ent.text] += 1\n",
    "    sorted_location = sorted(location.items(), key=lambda kv: kv[1], reverse=True)\n",
    "    for location, freq in sorted_location[:20]:\n",
    "        print(f\"{location} appears {freq} times in the corpus\")\n",
    "\n",
    "search_locations()"
   ]
  },
  {
   "cell_type": "code",
   "execution_count": 14,
   "metadata": {},
   "outputs": [
    {
     "output_type": "stream",
     "name": "stdout",
     "text": [
      "état appears 86 times in the corpus\nnamur appears 13 times in the corpus\nbelgique appears 12 times in the corpus\nliège appears 8 times in the corpus\nparis appears 7 times in the corpus\nrue madeleine appears 6 times in the corpus\nlondres appears 4 times in the corpus\ngand appears 4 times in the corpus\nsablon appears 4 times in the corpus\nrue berlaimont appears 4 times in the corpus\nbruxellois appears 3 times in the corpus\nétat sanitaire appears 3 times in the corpus\nrue duquesnoy appears 3 times in the corpus\nporte boulevard appears 3 times in the corpus\neurope appears 2 times in the corpus\nrue jean appears 2 times in the corpus\nsoleil appears 2 times in the corpus\nrue namur appears 2 times in the corpus\ncanal willebroeck appears 2 times in the corpus\nrue royale rue appears 2 times in the corpus\n"
     ]
    }
   ],
   "source": [
    "def search_locations(n=10**8):\n",
    "    text = open(\"1849_keywords.txt\", encoding='utf-8').read()\n",
    "    doc = nlp(text)\n",
    "    location = defaultdict(int)\n",
    "    for ent in doc.ents:\n",
    "        if ent.label_ == \"LOC\" and len(ent.text) > 3:\n",
    "            location[ent.text] += 1\n",
    "    sorted_location = sorted(location.items(), key=lambda kv: kv[1], reverse=True)\n",
    "    for location, freq in sorted_location[:20]:\n",
    "        print(f\"{location} appears {freq} times in the corpus\")\n",
    "search_locations()"
   ]
  },
  {
   "source": [
    "## Organisations"
   ],
   "cell_type": "markdown",
   "metadata": {}
  },
  {
   "cell_type": "code",
   "execution_count": 11,
   "metadata": {},
   "outputs": [
    {
     "output_type": "stream",
     "name": "stdout",
     "text": [
      "Conseil appears 214 times in the corpus\nCollège des Bourgmestre appears 49 times in the corpus\nRanwet appears 45 times in the corpus\nCollège appears 43 times in the corpus\nCollège des bourgmestre appears 41 times in the corpus\nM M appears 17 times in the corpus\nAdhésion appears 14 times in the corpus\nAvis appears 14 times in the corpus\nDÉPENSES appears 14 times in the corpus\n— N appears 12 times in the corpus\nNourriture appears 10 times in the corpus\nS u appears 9 times in the corpus\nNOTICE appears 9 times in the corpus\nSOMMAIRE appears 8 times in the corpus\nSeghers appears 8 times in the corpus\nLÉOPOLD appears 7 times in the corpus\nQ u appears 6 times in the corpus\nCHAP appears 6 times in the corpus\nALLOCATIONS appears 6 times in the corpus\nART appears 5 times in the corpus\n"
     ]
    }
   ],
   "source": [
    "def search_organisations(n=1000000000):\n",
    "    text = open(\"1849.txt\", encoding='utf-8').read()\n",
    "    doc = nlp(text)\n",
    "    location = defaultdict(int)\n",
    "    for ent in doc.ents:\n",
    "        if ent.label_ == \"ORG\" and len(ent.text) > 2:\n",
    "            location[ent.text] += 1\n",
    "    sorted_location = sorted(location.items(), key=lambda kv: kv[1], reverse=True)\n",
    "    for location, freq in sorted_location[:20]:\n",
    "        print(f\"{location} appears {freq} times in the corpus\")\n",
    "\n",
    "search_organisations()"
   ]
  },
  {
   "cell_type": "code",
   "execution_count": 5,
   "metadata": {},
   "outputs": [],
   "source": [
    "def search_organisations(n=1000000000):\n",
    "    text = open(\"1849_keywords.txt\", encoding='utf-8').read()\n",
    "    doc = nlp(text)\n",
    "    location = defaultdict(int)\n",
    "    for ent in doc.ents:\n",
    "        if ent.label_ == \"ORG\" and len(ent.text) > 2:\n",
    "            location[ent.text] += 1\n",
    "    sorted_location = sorted(location.items(), key=lambda kv: kv[1], reverse=True)\n",
    "    for location, freq in sorted_location[:20]:\n",
    "        print(f\"{location} appears {freq} times in the corpus\")"
   ]
  },
  {
   "cell_type": "code",
   "execution_count": 6,
   "metadata": {},
   "outputs": [
    {
     "output_type": "stream",
     "name": "stdout",
     "text": [
      "section police appears 15 times in the corpus\nten appears 13 times in the corpus\ncollège bourgmestre appears 6 times in the corpus\niff appears 5 times in the corpus\nacadémie appears 5 times in the corpus\ncollège brouckere appears 5 times in the corpus\nter appears 5 times in the corpus\nwaefelaer appears 4 times in the corpus\npan appears 4 times in the corpus\nacadémie royale appears 4 times in the corpus\nfab appears 4 times in the corpus\nrevu ordonnance appears 3 times in the corpus\ncommission médicale appears 3 times in the corpus\nitl appears 2 times in the corpus\nbureau central appears 2 times in the corpus\nacadémie beaux appears 2 times in the corpus\ncollège brouckere secrétaire appears 2 times in the corpus\ndra appears 2 times in the corpus\ntreurenberg appears 2 times in the corpus\nbureau dito appears 2 times in the corpus\n"
     ]
    }
   ],
   "source": [
    "search_organisations()"
   ]
  },
  {
   "source": [
    "# Année 1949"
   ],
   "cell_type": "markdown",
   "metadata": {}
  },
  {
   "source": [
    "## Organisations"
   ],
   "cell_type": "markdown",
   "metadata": {}
  },
  {
   "cell_type": "code",
   "execution_count": null,
   "metadata": {},
   "outputs": [],
   "source": [
    "def search_organisations(n=1000000000):\n",
    "    text = open(\"1949.txt\", encoding='utf-8').read()\n",
    "    doc = nlp(text)\n",
    "    location = defaultdict(int)\n",
    "    for ent in doc.ents:\n",
    "        if ent.label_ == \"ORG\" and len(ent.text) > 2:\n",
    "            location[ent.text] += 1\n",
    "    sorted_location = sorted(location.items(), key=lambda kv: kv[1], reverse=True)\n",
    "    for location, freq in sorted_location[:20]:\n",
    "        print(f\"{location} appears {freq} times in the corpus\")\n",
    "search_organisations()"
   ]
  },
  {
   "cell_type": "code",
   "execution_count": 7,
   "metadata": {},
   "outputs": [
    {
     "output_type": "stream",
     "name": "stdout",
     "text": [
      "ecole normale appears 22 times in the corpus\npri appears 16 times in the corpus\npgr appears 14 times in the corpus\nten appears 11 times in the corpus\nter appears 8 times in the corpus\nacadémie royale appears 6 times in the corpus\ninstitut arts métiers appears 6 times in the corpus\nacadémie musique appears 6 times in the corpus\npro appears 5 times in the corpus\nidem ecole normale appears 4 times in the corpus\ninstitut eastman appears 4 times in the corpus\ntime appears 4 times in the corpus\nmodifica appears 4 times in the corpus\nuur appears 4 times in the corpus\nremoortel appears 4 times in the corpus\nacadémie royale beaux appears 3 times in the corpus\narr appears 3 times in the corpus\noit appears 3 times in the corpus\nparti communiste appears 3 times in the corpus\nsis appears 3 times in the corpus\n"
     ]
    }
   ],
   "source": [
    "def search_organisations(n=1000000000):\n",
    "    text = open(\"1949_keywords.txt\", encoding='utf-8').read()\n",
    "    doc = nlp(text)\n",
    "    location = defaultdict(int)\n",
    "    for ent in doc.ents:\n",
    "        if ent.label_ == \"ORG\" and len(ent.text) > 2:\n",
    "            location[ent.text] += 1\n",
    "    sorted_location = sorted(location.items(), key=lambda kv: kv[1], reverse=True)\n",
    "    for location, freq in sorted_location[:20]:\n",
    "        print(f\"{location} appears {freq} times in the corpus\")\n",
    "search_organisations()"
   ]
  },
  {
   "source": [
    "## Locations"
   ],
   "cell_type": "markdown",
   "metadata": {}
  },
  {
   "cell_type": "code",
   "execution_count": null,
   "metadata": {},
   "outputs": [],
   "source": [
    "def search_locations(n=10**8):\n",
    "    text = open(\"1949.txt\", encoding='utf-8').read()\n",
    "    doc = nlp(text)\n",
    "    location = defaultdict(int)\n",
    "    for ent in doc.ents:\n",
    "        if ent.label_ == \"LOC\" and len(ent.text) > 3:\n",
    "            location[ent.text] += 1\n",
    "    sorted_location = sorted(location.items(), key=lambda kv: kv[1], reverse=True)\n",
    "    for location, freq in sorted_location[:20]:\n",
    "        print(f\"{location} appears {freq} times in the corpus\")\n",
    "\n",
    "search_locations()"
   ]
  },
  {
   "cell_type": "code",
   "execution_count": 9,
   "metadata": {},
   "outputs": [
    {
     "output_type": "stream",
     "name": "stdout",
     "text": [
      "état appears 98 times in the corpus\nparis appears 77 times in the corpus\nbelgique appears 52 times in the corpus\nbruxellois appears 42 times in the corpus\nhermanus appears 14 times in the corpus\nlaeken appears 11 times in the corpus\neurope appears 11 times in the corpus\nmali appears 10 times in the corpus\nfrance appears 10 times in the corpus\nmerten appears 9 times in the corpus\netat appears 9 times in the corpus\nvoudrais appears 9 times in the corpus\nangleterre appears 7 times in the corpus\nliège appears 5 times in the corpus\nrue gaucheret appears 5 times in the corpus\nrue claessens appears 5 times in the corpus\npont laeken appears 4 times in the corpus\navenue ferdauci appears 4 times in the corpus\nmassin appears 4 times in the corpus\nstade heysel appears 4 times in the corpus\n"
     ]
    }
   ],
   "source": [
    "def search_locations(n=10**8):\n",
    "    text = open(\"1949_keywords.txt\", encoding='utf-8').read()\n",
    "    doc = nlp(text)\n",
    "    location = defaultdict(int)\n",
    "    for ent in doc.ents:\n",
    "        if ent.label_ == \"LOC\" and len(ent.text) > 3:\n",
    "            location[ent.text] += 1\n",
    "    sorted_location = sorted(location.items(), key=lambda kv: kv[1], reverse=True)\n",
    "    for location, freq in sorted_location[:20]:\n",
    "        print(f\"{location} appears {freq} times in the corpus\")\n",
    "\n",
    "search_locations()"
   ]
  },
  {
   "cell_type": "code",
   "execution_count": null,
   "metadata": {},
   "outputs": [],
   "source": []
  },
  {
   "cell_type": "code",
   "execution_count": null,
   "metadata": {},
   "outputs": [],
   "source": []
  }
 ]
}