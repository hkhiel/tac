{
 "metadata": {
  "language_info": {
   "codemirror_mode": {
    "name": "ipython",
    "version": 3
   },
   "file_extension": ".py",
   "mimetype": "text/x-python",
   "name": "python",
   "nbconvert_exporter": "python",
   "pygments_lexer": "ipython3",
   "version": "3.8.6-final"
  },
  "orig_nbformat": 2,
  "kernelspec": {
   "name": "python3",
   "display_name": "Python 3"
  }
 },
 "nbformat": 4,
 "nbformat_minor": 2,
 "cells": [
  {
   "source": [
    "# Model exploration  "
   ],
   "cell_type": "markdown",
   "metadata": {}
  },
  {
   "cell_type": "code",
   "execution_count": 1,
   "metadata": {},
   "outputs": [],
   "source": [
    "from gensim.models import Word2Vec\n",
    "from pprint import pprint"
   ]
  },
  {
   "source": [
    "# Charger le modèle que nous venons de créer"
   ],
   "cell_type": "markdown",
   "metadata": {}
  },
  {
   "cell_type": "code",
   "execution_count": 2,
   "metadata": {},
   "outputs": [],
   "source": [
    "model = Word2Vec.load(\"../data/bulletins.model\")"
   ]
  },
  {
   "source": [
    "# Comment est représenté le mot \"rue\" ?"
   ],
   "cell_type": "markdown",
   "metadata": {}
  },
  {
   "cell_type": "code",
   "execution_count": 3,
   "metadata": {},
   "outputs": [
    {
     "output_type": "execute_result",
     "data": {
      "text/plain": [
       "array([ 0.6583011 , -0.19149259,  0.0280764 , -0.12899858,  0.2713146 ,\n",
       "       -0.05534902,  0.3671472 , -0.46902567,  0.31946984, -0.13116658,\n",
       "        0.6483096 , -0.01614258, -0.08428386, -0.34729853, -0.62702954,\n",
       "        0.45788532, -0.0232233 ,  0.22589228, -0.05835195,  0.09855539,\n",
       "       -0.15579252,  0.5630289 ,  0.00415527,  0.06737371, -0.3701241 ,\n",
       "        0.37893847,  0.00523312, -0.18666053, -0.19513574, -0.31713948,\n",
       "        0.31464526, -0.09623224, -0.1880169 , -0.00205271,  0.1343784 ,\n",
       "        0.0136178 ,  0.04777343, -0.5565043 , -0.11586609, -0.17099586,\n",
       "       -0.26443872, -0.33545816, -0.11553513, -0.25453725,  0.01486631,\n",
       "        0.7125625 ,  0.08985708, -0.11219838,  0.41415048,  0.18139923,\n",
       "       -0.19009067, -0.13649075,  0.13908194,  0.12741716, -0.09429531,\n",
       "        0.15197602,  0.3037927 , -0.08091048,  0.27498147, -0.07036372,\n",
       "       -0.15232223, -0.08866352, -0.5393638 ,  0.25678188], dtype=float32)"
      ]
     },
     "metadata": {},
     "execution_count": 3
    }
   ],
   "source": [
    "model[\"rue\"]"
   ]
  },
  {
   "source": [
    "# Et fleuriste ?"
   ],
   "cell_type": "markdown",
   "metadata": {}
  },
  {
   "cell_type": "code",
   "execution_count": 4,
   "metadata": {},
   "outputs": [
    {
     "output_type": "execute_result",
     "data": {
      "text/plain": [
       "array([ 1.7205104e-01, -4.5000650e-02,  5.3219765e-06, -3.3417184e-02,\n",
       "        6.6551656e-02, -1.6999185e-02,  8.9774631e-02, -1.1207249e-01,\n",
       "        8.7623544e-02, -3.3738125e-02,  1.6564699e-01, -4.1180258e-03,\n",
       "       -2.6461154e-02, -8.7838717e-02, -1.5098076e-01,  1.1913339e-01,\n",
       "       -1.3194697e-03,  4.8674405e-02, -7.7876761e-03,  2.7300123e-02,\n",
       "       -3.4737453e-02,  1.4293067e-01, -4.5141731e-03,  1.4458668e-02,\n",
       "       -8.8821098e-02,  9.7527042e-02,  7.0057544e-03, -4.4198804e-02,\n",
       "       -5.0868757e-02, -8.6540505e-02,  8.1010766e-02, -1.9390449e-02,\n",
       "       -4.1179240e-02, -4.1931462e-03,  3.0541059e-02,  5.3771399e-03,\n",
       "        1.4868325e-02, -1.4321873e-01, -2.6703568e-02, -3.7423994e-02,\n",
       "       -5.9680942e-02, -8.6008586e-02, -2.2532525e-02, -5.5069279e-02,\n",
       "        4.2750072e-03,  1.8555313e-01,  1.9449286e-02, -2.6622646e-02,\n",
       "        1.0595282e-01,  4.4576891e-02, -4.3471910e-02, -2.8071653e-02,\n",
       "        2.9124616e-02,  3.1836942e-02, -1.8520083e-02,  4.1031804e-02,\n",
       "        7.8605480e-02, -1.9911129e-02,  6.3269749e-02, -1.7300719e-02,\n",
       "       -3.5252932e-02, -2.7239215e-02, -1.3449404e-01,  5.9312418e-02],\n",
       "      dtype=float32)"
      ]
     },
     "metadata": {},
     "execution_count": 4
    }
   ],
   "source": [
    "model['janvier']"
   ]
  },
  {
   "source": [
    "# Quel est leur similarité ?\n",
    "\n",
    "- 3 examples"
   ],
   "cell_type": "markdown",
   "metadata": {}
  },
  {
   "cell_type": "code",
   "execution_count": 11,
   "metadata": {},
   "outputs": [
    {
     "output_type": "stream",
     "name": "stdout",
     "text": [
      "0.9962368\n0.9968564\n0.9982068\n"
     ]
    }
   ],
   "source": [
    "print(model.wv.similarity(\"rue\", \"budget\"))\n",
    "print(model.wv.similarity(\"fevrier\", \"janvier\"))\n",
    "print(model.wv.similarity(\"section\", \"jean\"))"
   ]
  },
  {
   "source": [
    "# Quel mot est le plus proche ?"
   ],
   "cell_type": "markdown",
   "metadata": {}
  },
  {
   "cell_type": "code",
   "execution_count": 6,
   "metadata": {},
   "outputs": [
    {
     "output_type": "execute_result",
     "data": {
      "text/plain": [
       "[('filles', 0.9982309937477112),\n",
       " ('sur', 0.9982031583786011),\n",
       " ('meme', 0.9981809258460999),\n",
       " (')', 0.9981593489646912),\n",
       " ('rue', 0.9981573224067688),\n",
       " ('son', 0.9981459379196167),\n",
       " ('deux', 0.9981445670127869),\n",
       " ('prix', 0.9981032609939575),\n",
       " (':', 0.9980984926223755),\n",
       " ('ont_ete', 0.9980834722518921)]"
      ]
     },
     "metadata": {},
     "execution_count": 6
    }
   ],
   "source": [
    "model.wv.most_similar(\"janvier\", topn=10)"
   ]
  },
  {
   "cell_type": "code",
   "execution_count": 7,
   "metadata": {},
   "outputs": [
    {
     "output_type": "execute_result",
     "data": {
      "text/plain": [
       "[('execution', 0.9988871812820435),\n",
       " ('faire', 0.9988678097724915),\n",
       " ('etre', 0.9988635778427124),\n",
       " ('est', 0.99886155128479),\n",
       " ('avenue', 0.9988590478897095),\n",
       " (\"d_'\", 0.9988375902175903),\n",
       " ('cette', 0.9988366961479187),\n",
       " ('deg_l', 0.9988356232643127),\n",
       " ('du', 0.9988336563110352),\n",
       " ('a_ete', 0.9988158345222473)]"
      ]
     },
     "metadata": {},
     "execution_count": 7
    }
   ],
   "source": [
    "model.wv.most_similar(\"jean\", topn=10)"
   ]
  },
  {
   "cell_type": "code",
   "execution_count": 8,
   "metadata": {},
   "outputs": [
    {
     "output_type": "execute_result",
     "data": {
      "text/plain": [
       "[('le', 0.9996302723884583),\n",
       " (':', 0.999620258808136),\n",
       " ('au', 0.999619722366333),\n",
       " ('ne', 0.9996095299720764),\n",
       " ('que', 0.9996010065078735),\n",
       " ('ou', 0.9995930194854736),\n",
       " (\"n_'\", 0.9995898008346558),\n",
       " ('il', 0.9995835423469543),\n",
       " ('1901', 0.9995831251144409),\n",
       " ('en', 0.9995828866958618)]"
      ]
     },
     "metadata": {},
     "execution_count": 8
    }
   ],
   "source": [
    "model.wv.most_similar(\"25\", topn=10)"
   ]
  }
 ]
}