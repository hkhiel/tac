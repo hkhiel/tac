{
 "metadata": {
  "language_info": {
   "codemirror_mode": {
    "name": "ipython",
    "version": 3
   },
   "file_extension": ".py",
   "mimetype": "text/x-python",
   "name": "python",
   "nbconvert_exporter": "python",
   "pygments_lexer": "ipython3",
   "version": "3.8.6-final"
  },
  "orig_nbformat": 2,
  "kernelspec": {
   "name": "python3",
   "display_name": "Python 3.8.6 64-bit ('nlp_env')",
   "metadata": {
    "interpreter": {
     "hash": "f3887a1704196b7a7713c7716e1b8e8ae582b1c59f34920cbd3915e50d7a3d9f"
    }
   }
  }
 },
 "nbformat": 4,
 "nbformat_minor": 2,
 "cells": [
  {
   "source": [
    "# Clustering années 1930"
   ],
   "cell_type": "markdown",
   "metadata": {}
  },
  {
   "cell_type": "code",
   "execution_count": 1,
   "metadata": {},
   "outputs": [],
   "source": [
    "import collections\n",
    "import os\n",
    "import string\n",
    "import sys\n",
    "\n",
    "import pandas as pd\n",
    "from nltk import word_tokenize\n",
    "from nltk.corpus import stopwords\n",
    "from pprint import pprint\n",
    "from sklearn.cluster import KMeans\n",
    "from sklearn.feature_extraction.text import TfidfVectorizer"
   ]
  },
  {
   "cell_type": "code",
   "execution_count": 2,
   "metadata": {},
   "outputs": [
    {
     "output_type": "stream",
     "name": "stderr",
     "text": [
      "[nltk_data] Downloading package punkt to\n[nltk_data]     C:\\Users\\hanane\\AppData\\Roaming\\nltk_data...\n[nltk_data]   Package punkt is already up-to-date!\n"
     ]
    },
    {
     "output_type": "execute_result",
     "data": {
      "text/plain": [
       "True"
      ]
     },
     "metadata": {},
     "execution_count": 2
    }
   ],
   "source": [
    "import nltk\n",
    "\n",
    "nltk.download('punkt')"
   ]
  },
  {
   "cell_type": "code",
   "execution_count": 3,
   "metadata": {},
   "outputs": [],
   "source": [
    "data_path = \"../data/bulletins/\""
   ]
  },
  {
   "source": [
    "# Choix d'une décennie et du nombre de clusters"
   ],
   "cell_type": "markdown",
   "metadata": {}
  },
  {
   "cell_type": "code",
   "execution_count": 4,
   "metadata": {},
   "outputs": [],
   "source": [
    "DECADE = '1930'\n",
    "N_CLUSTERS = 4"
   ]
  },
  {
   "source": [
    "# Chargement des fichiers de la décennie"
   ],
   "cell_type": "markdown",
   "metadata": {}
  },
  {
   "cell_type": "code",
   "execution_count": 5,
   "metadata": {},
   "outputs": [],
   "source": [
    "files = [f for f in sorted(os.listdir(data_path)) if f\"_{DECADE[:-1]}\" in f]"
   ]
  },
  {
   "cell_type": "code",
   "execution_count": 6,
   "metadata": {},
   "outputs": [
    {
     "output_type": "execute_result",
     "data": {
      "text/plain": [
       "['Bxl_1930_Tome_II1_Part_1.txt',\n",
       " 'Bxl_1930_Tome_II1_Part_10.txt',\n",
       " 'Bxl_1930_Tome_II1_Part_11.txt',\n",
       " 'Bxl_1930_Tome_II1_Part_2.txt',\n",
       " 'Bxl_1930_Tome_II1_Part_3.txt']"
      ]
     },
     "metadata": {},
     "execution_count": 6
    }
   ],
   "source": [
    "# Exemple de fichiers\n",
    "files[:5]"
   ]
  },
  {
   "cell_type": "code",
   "execution_count": 7,
   "metadata": {},
   "outputs": [],
   "source": [
    "texts = [open(data_path + f, encoding = 'utf-8').read() for f in files]"
   ]
  },
  {
   "cell_type": "code",
   "execution_count": 8,
   "metadata": {},
   "outputs": [
    {
     "output_type": "execute_result",
     "data": {
      "text/plain": [
       "'VILLE\\n\\nDE\\n\\nBRUXELLES\\n\\nBULLETIN COMMUNAL\\nA N N É E\\n\\n1930\\n\\nTOME\\n\\nII\\n\\nBRUXELLES\\nIMPRIMERIE\\n\\nE . G U Y O T , S. A.\\n\\n12. rue Pachéco, 12\\n1 930\\n\\n\\x0c\\x0cN\" l .\\n\\nCOMTTE RENDU DE LA SÉANCE DU 7 JUILLET IfWO.\\n\\nV I L L E\\n\\nD E\\n\\nBULLETIN\\nAnnée\\n\\nC O N S E I L\\nSéance\\n\\nB R U X E L L E S\\n\\nGO M M U N AI\\n1930.\\n\\nC O M M U N A L\\n\\ndu 7 Juillet\\n\\n1930.\\n\\nPrésidence de M . ADOLPHE M A X , Bourgmestre.\\n\\nSOMMAIRE :\\nPAGES.\\n\\n1.\\n2.\\n'"
      ]
     },
     "metadata": {},
     "execution_count": 8
    }
   ],
   "source": [
    "# Exemple de textes\n",
    "texts[0][:400]"
   ]
  },
  {
   "source": [
    "# Vectorisation du texte"
   ],
   "cell_type": "markdown",
   "metadata": {}
  },
  {
   "cell_type": "code",
   "execution_count": 9,
   "metadata": {},
   "outputs": [],
   "source": [
    "def process_text(text, stem=True):\n",
    "    \"\"\" Tokenize text and remove punctuation \"\"\"\n",
    "    text = text.translate(string.punctuation)\n",
    "    tokens = word_tokenize(text)\n",
    "    return tokens"
   ]
  },
  {
   "cell_type": "code",
   "execution_count": 10,
   "metadata": {},
   "outputs": [],
   "source": [
    "vectorizer = TfidfVectorizer(tokenizer=process_text,\n",
    "                                stop_words=stopwords.words('french'),\n",
    "                                max_df=0.5,\n",
    "                                min_df=0.1,\n",
    "                                lowercase=True)"
   ]
  },
  {
   "cell_type": "code",
   "execution_count": 11,
   "metadata": {},
   "outputs": [
    {
     "output_type": "stream",
     "name": "stdout",
     "text": [
      "Wall time: 1min 56s\n"
     ]
    }
   ],
   "source": [
    "%time tfidf_vectors = vectorizer.fit_transform(texts)"
   ]
  },
  {
   "cell_type": "code",
   "execution_count": 12,
   "metadata": {},
   "outputs": [
    {
     "output_type": "execute_result",
     "data": {
      "text/plain": [
       "<206x6769 sparse matrix of type '<class 'numpy.float64'>'\n",
       "\twith 294624 stored elements in Compressed Sparse Row format>"
      ]
     },
     "metadata": {},
     "execution_count": 12
    }
   ],
   "source": [
    "tfidf_vectors"
   ]
  },
  {
   "cell_type": "code",
   "execution_count": 13,
   "metadata": {},
   "outputs": [
    {
     "output_type": "execute_result",
     "data": {
      "text/plain": [
       "id              0.257770\n",
       "lycée           0.184863\n",
       "j'ai            0.123238\n",
       "voitures        0.120507\n",
       "favorable.++    0.111229\n",
       "                  ...   \n",
       "limité          0.000000\n",
       "limitée         0.000000\n",
       "lingerie        0.000000\n",
       "linguistique    0.000000\n",
       "guillaume       0.000000\n",
       "Length: 6769, dtype: float64"
      ]
     },
     "metadata": {},
     "execution_count": 13
    }
   ],
   "source": [
    "# Exemple de vecteur TFIDF\n",
    "pd.Series(\n",
    "    tfidf_vectors[0].toarray()[0],\n",
    "    index=vectorizer.get_feature_names()\n",
    "    ).sort_values(ascending=False)"
   ]
  },
  {
   "source": [
    "# Clustering des vecteurs TFIDF"
   ],
   "cell_type": "markdown",
   "metadata": {}
  },
  {
   "cell_type": "code",
   "execution_count": 14,
   "metadata": {},
   "outputs": [],
   "source": [
    "km_model = KMeans(n_clusters=N_CLUSTERS)"
   ]
  },
  {
   "cell_type": "code",
   "execution_count": 15,
   "metadata": {},
   "outputs": [
    {
     "output_type": "execute_result",
     "data": {
      "text/plain": [
       "KMeans(n_clusters=4)"
      ]
     },
     "metadata": {},
     "execution_count": 15
    }
   ],
   "source": [
    "km_model.fit(tfidf_vectors)"
   ]
  },
  {
   "cell_type": "code",
   "execution_count": 16,
   "metadata": {},
   "outputs": [],
   "source": [
    "clustering = collections.defaultdict(list)\n",
    "\n",
    "for idx, label in enumerate(km_model.labels_):\n",
    "    clustering[label].append(files[idx])"
   ]
  },
  {
   "cell_type": "code",
   "execution_count": 17,
   "metadata": {},
   "outputs": [
    {
     "output_type": "stream",
     "name": "stdout",
     "text": [
      "{0: ['Bxl_1930_Tome_II1_Part_10.txt',\n     'Bxl_1930_Tome_II1_Part_11.txt',\n     'Bxl_1930_Tome_II1_Part_2.txt',\n     'Bxl_1930_Tome_II1_Part_4.txt',\n     'Bxl_1930_Tome_II1_Part_5.txt',\n     'Bxl_1930_Tome_II1_Part_6.txt',\n     'Bxl_1930_Tome_II1_Part_7.txt',\n     'Bxl_1930_Tome_II1_Part_8.txt',\n     'Bxl_1930_Tome_II1_Part_9.txt',\n     'Bxl_1930_Tome_II2_Part_10.txt',\n     'Bxl_1930_Tome_II2_Part_11.txt',\n     'Bxl_1930_Tome_II2_Part_6.txt',\n     'Bxl_1930_Tome_II2_Part_7.txt',\n     'Bxl_1930_Tome_II2_Part_8.txt',\n     'Bxl_1930_Tome_II2_Part_9.txt',\n     'Bxl_1930_Tome_I_Part_9.txt',\n     'Bxl_1931_Tome_II2_Part_7.txt',\n     'Bxl_1931_Tome_II2_Part_8.txt',\n     'Bxl_1931_Tome_I_Part_10.txt',\n     'Bxl_1932_Tome_II1_Part_2.txt',\n     'Bxl_1932_Tome_II1_Part_5.txt',\n     'Bxl_1932_Tome_II1_Part_6.txt',\n     'Bxl_1932_Tome_II1_Part_7.txt',\n     'Bxl_1932_Tome_II2_Part_5.txt',\n     'Bxl_1932_Tome_II2_Part_6.txt',\n     'Bxl_1932_Tome_II2_Part_7.txt',\n     'Bxl_1932_Tome_II2_Part_8.txt',\n     'Bxl_1932_Tome_II2_Part_9.txt',\n     'Bxl_1932_Tome_I_Part_9.txt',\n     'Bxl_1933_Tome_II2_Part_10.txt',\n     'Bxl_1933_Tome_II2_Part_6.txt',\n     'Bxl_1933_Tome_II2_Part_7.txt',\n     'Bxl_1933_Tome_II2_Part_8.txt',\n     'Bxl_1933_Tome_II2_Part_9.txt',\n     'Bxl_1934_Tome_I_Part_10.txt',\n     'Bxl_1935_Tome_II_Part_10.txt',\n     'Bxl_1935_Tome_II_Part_2.txt',\n     'Bxl_1935_Tome_II_Part_3.txt',\n     'Bxl_1935_Tome_II_Part_5.txt',\n     'Bxl_1935_Tome_II_Part_6.txt',\n     'Bxl_1935_Tome_II_Part_7.txt',\n     'Bxl_1935_Tome_II_Part_8.txt',\n     'Bxl_1935_Tome_II_Part_9.txt',\n     'Bxl_1935_Tome_I_Part_8.txt',\n     'Bxl_1936_Tome_II2_Part_10.txt',\n     'Bxl_1936_Tome_II2_Part_11.txt',\n     'Bxl_1936_Tome_II2_Part_12.txt',\n     'Bxl_1936_Tome_II2_Part_13.txt',\n     'Bxl_1936_Tome_II2_Part_14.txt',\n     'Bxl_1936_Tome_II2_Part_15.txt',\n     'Bxl_1936_Tome_II2_Part_16.txt',\n     'Bxl_1936_Tome_II2_Part_5.txt',\n     'Bxl_1936_Tome_II2_Part_7.txt',\n     'Bxl_1936_Tome_II2_Part_8.txt',\n     'Bxl_1936_Tome_II2_Part_9.txt',\n     'Bxl_1937_Tome_II1_Part_4.txt',\n     'Bxl_1937_Tome_II1_Part_5.txt',\n     'Bxl_1937_Tome_II2_Part_11.txt',\n     'Bxl_1937_Tome_II2_Part_2.txt',\n     'Bxl_1937_Tome_II2_Part_3.txt',\n     'Bxl_1938_Tome_II_Part_11.txt',\n     'Bxl_1938_Tome_II_Part_3.txt',\n     'Bxl_1938_Tome_II_Part_4.txt',\n     'Bxl_1938_Tome_II_Part_5.txt',\n     'Bxl_1938_Tome_II_Part_6.txt',\n     'Bxl_1938_Tome_II_Part_7.txt',\n     'Bxl_1938_Tome_I_Part_8.txt',\n     'Bxl_1939_Tome_III_Part_6.txt',\n     'Bxl_1939_Tome_II_Part_4.txt',\n     'Bxl_1939_Tome_II_Part_5.txt',\n     'Bxl_1939_Tome_II_Part_6.txt',\n     'Bxl_1939_Tome_II_Part_7.txt',\n     'Bxl_1939_Tome_II_Part_8.txt',\n     'Bxl_1939_Tome_II_Part_9.txt',\n     'Bxl_1939_Tome_I_Part_9.txt'],\n 1: ['Bxl_1930_Tome_II1_Part_1.txt',\n     'Bxl_1930_Tome_II1_Part_3.txt',\n     'Bxl_1930_Tome_II2_Part_1.txt',\n     'Bxl_1930_Tome_II2_Part_2.txt',\n     'Bxl_1930_Tome_II2_Part_3.txt',\n     'Bxl_1930_Tome_II2_Part_4.txt',\n     'Bxl_1930_Tome_II2_Part_5.txt',\n     'Bxl_1930_Tome_I_Part_1.txt',\n     'Bxl_1930_Tome_I_Part_2.txt',\n     'Bxl_1930_Tome_I_Part_3.txt',\n     'Bxl_1930_Tome_I_Part_4.txt',\n     'Bxl_1930_Tome_I_Part_8.txt',\n     'Bxl_1931_Tome_II2_Part_1.txt',\n     'Bxl_1931_Tome_II2_Part_2.txt',\n     'Bxl_1931_Tome_II2_Part_3.txt',\n     'Bxl_1931_Tome_II2_Part_4.txt',\n     'Bxl_1931_Tome_II2_Part_5.txt',\n     'Bxl_1931_Tome_II2_Part_6.txt',\n     'Bxl_1931_Tome_I_Part_1.txt',\n     'Bxl_1931_Tome_I_Part_2.txt',\n     'Bxl_1931_Tome_I_Part_3.txt',\n     'Bxl_1931_Tome_I_Part_4.txt',\n     'Bxl_1931_Tome_I_Part_5.txt',\n     'Bxl_1931_Tome_I_Part_6.txt',\n     'Bxl_1931_Tome_I_Part_9.txt',\n     'Bxl_1932_Tome_II1_Part_1.txt',\n     'Bxl_1932_Tome_II1_Part_3.txt',\n     'Bxl_1932_Tome_II1_Part_4.txt',\n     'Bxl_1932_Tome_II2_Part_1.txt',\n     'Bxl_1932_Tome_II2_Part_2.txt',\n     'Bxl_1932_Tome_II2_Part_3.txt',\n     'Bxl_1932_Tome_II2_Part_4.txt',\n     'Bxl_1932_Tome_I_Part_1.txt',\n     'Bxl_1932_Tome_I_Part_2.txt',\n     'Bxl_1932_Tome_I_Part_3.txt',\n     'Bxl_1932_Tome_I_Part_4.txt',\n     'Bxl_1932_Tome_I_Part_5.txt',\n     'Bxl_1933_Tome_II2_Part_1.txt',\n     'Bxl_1933_Tome_II2_Part_2.txt',\n     'Bxl_1933_Tome_II2_Part_3.txt',\n     'Bxl_1933_Tome_II2_Part_4.txt',\n     'Bxl_1933_Tome_II2_Part_5.txt',\n     'Bxl_1934_Tome_I_Part_1.txt',\n     'Bxl_1934_Tome_I_Part_2.txt',\n     'Bxl_1934_Tome_I_Part_3.txt',\n     'Bxl_1934_Tome_I_Part_4.txt',\n     'Bxl_1934_Tome_I_Part_5.txt',\n     'Bxl_1934_Tome_I_Part_8.txt',\n     'Bxl_1934_Tome_I_Part_9.txt',\n     'Bxl_1935_Tome_II_Part_1.txt',\n     'Bxl_1935_Tome_II_Part_4.txt',\n     'Bxl_1935_Tome_I_Part_1.txt',\n     'Bxl_1935_Tome_I_Part_2.txt',\n     'Bxl_1935_Tome_I_Part_3.txt',\n     'Bxl_1935_Tome_I_Part_4.txt',\n     'Bxl_1936_Tome_I_Part_2.txt',\n     'Bxl_1937_Tome_II2_Part_9.txt',\n     'Bxl_1938_Tome_II_Part_1.txt',\n     'Bxl_1938_Tome_II_Part_10.txt',\n     'Bxl_1938_Tome_II_Part_2.txt',\n     'Bxl_1938_Tome_II_Part_8.txt',\n     'Bxl_1938_Tome_II_Part_9.txt',\n     'Bxl_1938_Tome_I_Part_1.txt',\n     'Bxl_1938_Tome_I_Part_2.txt',\n     'Bxl_1938_Tome_I_Part_7.txt',\n     'Bxl_1939_Tome_III_Part_1.txt',\n     'Bxl_1939_Tome_III_Part_2.txt',\n     'Bxl_1939_Tome_III_Part_3.txt',\n     'Bxl_1939_Tome_III_Part_4.txt',\n     'Bxl_1939_Tome_III_Part_5.txt',\n     'Bxl_1939_Tome_II_Part_1.txt',\n     'Bxl_1939_Tome_II_Part_2.txt',\n     'Bxl_1939_Tome_II_Part_3.txt',\n     'Bxl_1939_Tome_I_Part_1.txt',\n     'Bxl_1939_Tome_I_Part_2.txt',\n     'Bxl_1939_Tome_I_Part_3.txt',\n     'Bxl_1939_Tome_I_Part_4.txt',\n     'Bxl_1939_Tome_I_Part_5.txt',\n     'Bxl_1939_Tome_I_Part_6.txt',\n     'Bxl_1939_Tome_I_Part_7.txt',\n     'Bxl_1939_Tome_I_Part_8.txt'],\n 2: ['Bxl_1936_Tome_I2_Part_1.txt',\n     'Bxl_1936_Tome_I2_Part_2.txt',\n     'Bxl_1936_Tome_I2_Part_3.txt',\n     'Bxl_1936_Tome_I2_Part_4.txt',\n     'Bxl_1936_Tome_I2_Part_5.txt',\n     'Bxl_1936_Tome_II2_Part_1.txt',\n     'Bxl_1936_Tome_II2_Part_2.txt',\n     'Bxl_1936_Tome_II2_Part_6.txt',\n     'Bxl_1936_Tome_I_Part_1.txt',\n     'Bxl_1936_Tome_I_Part_3.txt',\n     'Bxl_1936_Tome_I_Part_4.txt',\n     'Bxl_1936_Tome_I_Part_5.txt',\n     'Bxl_1936_Tome_I_Part_6.txt',\n     'Bxl_1937_Tome_II1_Part_1.txt',\n     'Bxl_1937_Tome_II1_Part_2.txt',\n     'Bxl_1937_Tome_II1_Part_3.txt',\n     'Bxl_1937_Tome_II2_Part_1.txt',\n     'Bxl_1937_Tome_II2_Part_10.txt',\n     'Bxl_1937_Tome_II2_Part_4.txt',\n     'Bxl_1937_Tome_II2_Part_5.txt',\n     'Bxl_1937_Tome_II2_Part_6.txt',\n     'Bxl_1937_Tome_II2_Part_7.txt',\n     'Bxl_1937_Tome_II2_Part_8.txt',\n     'Bxl_1937_Tome_I_Part_1.txt',\n     'Bxl_1937_Tome_I_Part_2.txt',\n     'Bxl_1937_Tome_I_Part_3.txt',\n     'Bxl_1937_Tome_I_Part_4.txt',\n     'Bxl_1937_Tome_I_Part_7.txt',\n     'Bxl_1937_Tome_I_Part_8.txt',\n     'Bxl_1938_Tome_I_Part_3.txt',\n     'Bxl_1938_Tome_I_Part_6.txt'],\n 3: ['Bxl_1930_Tome_I_Part_5.txt',\n     'Bxl_1930_Tome_I_Part_6.txt',\n     'Bxl_1930_Tome_I_Part_7.txt',\n     'Bxl_1931_Tome_I_Part_7.txt',\n     'Bxl_1931_Tome_I_Part_8.txt',\n     'Bxl_1932_Tome_I_Part_6.txt',\n     'Bxl_1932_Tome_I_Part_7.txt',\n     'Bxl_1932_Tome_I_Part_8.txt',\n     'Bxl_1934_Tome_I_Part_6.txt',\n     'Bxl_1934_Tome_I_Part_7.txt',\n     'Bxl_1935_Tome_I_Part_5.txt',\n     'Bxl_1935_Tome_I_Part_6.txt',\n     'Bxl_1935_Tome_I_Part_7.txt',\n     'Bxl_1936_Tome_II2_Part_3.txt',\n     'Bxl_1936_Tome_II2_Part_4.txt',\n     'Bxl_1937_Tome_I_Part_5.txt',\n     'Bxl_1937_Tome_I_Part_6.txt',\n     'Bxl_1938_Tome_I_Part_4.txt',\n     'Bxl_1938_Tome_I_Part_5.txt']}\n"
     ]
    }
   ],
   "source": [
    "pprint(dict(clustering))"
   ]
  },
  {
   "cell_type": "code",
   "execution_count": null,
   "metadata": {},
   "outputs": [],
   "source": []
  }
 ]
}