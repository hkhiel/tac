{
 "metadata": {
  "language_info": {
   "codemirror_mode": {
    "name": "ipython",
    "version": 3
   },
   "file_extension": ".py",
   "mimetype": "text/x-python",
   "name": "python",
   "nbconvert_exporter": "python",
   "pygments_lexer": "ipython3",
   "version": "3.8.6-final"
  },
  "orig_nbformat": 2,
  "kernelspec": {
   "name": "Python 3.8.6 64-bit",
   "display_name": "Python 3.8.6 64-bit",
   "metadata": {
    "interpreter": {
     "hash": "fb7eff97c371641031f1b8ed5c17f08371c877cfe9bdc22908a0090b4d7574cc"
    }
   }
  }
 },
 "nbformat": 4,
 "nbformat_minor": 2,
 "cells": [
  {
   "source": [
    "# Testing web APIs with HTTP GET method"
   ],
   "cell_type": "markdown",
   "metadata": {}
  },
  {
   "cell_type": "code",
   "execution_count": 3,
   "metadata": {},
   "outputs": [],
   "source": [
    "import json\n",
    "import sys\n",
    "\n",
    "import requests"
   ]
  },
  {
   "source": [
    "## Fonctions"
   ],
   "cell_type": "markdown",
   "metadata": {}
  },
  {
   "cell_type": "code",
   "execution_count": 43,
   "metadata": {},
   "outputs": [],
   "source": [
    "import requests\n",
    "\n",
    "def currency_exchange(currency):\n",
    "    url = \"https://rapidapi.p.rapidapi.com/exchange\"\n",
    "    querystring = {\"from\":\"USD\",\"to\":\"EUR\"}\n",
    "    headers = {\n",
    "    'x-rapidapi-host': \"currency-exchange.p.rapidapi.com\",\n",
    "    'x-rapidapi-key': \"f1e402c8b3msh09eefaacf908b11p15d967jsne8bdeb3ffa9a\"\n",
    "    }\n",
    "    response = requests.request(\"GET\", url, headers=headers, params=querystring)\n",
    "    print( f\" {currency} dollars is {response.text} euros\" )"
   ]
  },
  {
   "source": [
    "## Echanger la monnaie de Dollar à Euro\n",
    "L'ideal pour les pdf du conseil communal de Belgique aurait été d'echanger les Francs belges en euros mais les api trouvé ne permettent pas ceci. Voici donc un \"proof of concept\", pour cet exercice-ci. "
   ],
   "cell_type": "markdown",
   "metadata": {}
  },
  {
   "cell_type": "code",
   "execution_count": 44,
   "metadata": {},
   "outputs": [
    {
     "output_type": "stream",
     "name": "stdout",
     "text": [
      " 10 euros is 0.843702 dollars\n"
     ]
    }
   ],
   "source": [
    "currency_exchange(10)"
   ]
  }
 ]
}