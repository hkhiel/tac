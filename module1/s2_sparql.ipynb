{
 "metadata": {
  "language_info": {
   "codemirror_mode": {
    "name": "ipython",
    "version": 3
   },
   "file_extension": ".py",
   "mimetype": "text/x-python",
   "name": "python",
   "nbconvert_exporter": "python",
   "pygments_lexer": "ipython3",
   "version": "3.8.6-final"
  },
  "orig_nbformat": 2,
  "kernelspec": {
   "name": "Python 3.8.6 64-bit",
   "display_name": "Python 3.8.6 64-bit",
   "metadata": {
    "interpreter": {
     "hash": "fb7eff97c371641031f1b8ed5c17f08371c877cfe9bdc22908a0090b4d7574cc"
    }
   }
  }
 },
 "nbformat": 4,
 "nbformat_minor": 2,
 "cells": [
  {
   "source": [
    "# Query Wikidata for Belgian Monarchy"
   ],
   "cell_type": "markdown",
   "metadata": {}
  },
  {
   "cell_type": "code",
   "execution_count": 1,
   "metadata": {},
   "outputs": [],
   "source": [
    "from datetime import datetime as dt\n",
    "\n",
    "from SPARQLWrapper import SPARQLWrapper, JSON"
   ]
  },
  {
   "source": [
    "## Fonctions"
   ],
   "cell_type": "markdown",
   "metadata": {}
  },
  {
   "cell_type": "code",
   "execution_count": 2,
   "metadata": {},
   "outputs": [],
   "source": [
    "def get_rows():\n",
    "    \"\"\"Retrieve results from SPARQL\"\"\"\n",
    "    #endpoint = \"https://query.wikidata.org/bigdata/namespace/wdq/sparql\"\n",
    "    endpoint = \"https://w.wiki/rL\"\n",
    "\n",
    "    sparql = SPARQLWrapper(endpoint)\n",
    "\n",
    "    statement = \"\"\"\n",
    "    SELECT DISTINCT ?person ?dateBirth ?dateDeath ?distinction_re_ue ?distinction_re_ueLabel WHERE {\n",
    "  ?person wdt:P27 wd:Q31;\n",
    "    wdt:P106 wd:Q116;\n",
    "    wdt:P569 ?dateBirth.\n",
    "  OPTIONAL { ?person wdt:P570 ?dateDeath. }\n",
    "  SERVICE wikibase:label { bd:serviceParam wikibase:language \"en\". }\n",
    "  OPTIONAL { ?person wdt:P166 ?distinction_re_ue. }\n",
    "  OPTIONAL {  }\n",
    "  OPTIONAL {  }\n",
    "}\n",
    "ORDER BY (?personLabel)\n",
    "    \"\"\"\n",
    "\n",
    "    sparql.setQuery(statement)\n",
    "    sparql.setReturnFormat(JSON)\n",
    "    results = sparql.query().convert()\n",
    "\n",
    "    rows = results['results']['bindings']\n",
    "    print(f\"\\n{len(rows)} Belgian number of distinctions by monarchs found\\n\")\n",
    "    return rows"
   ]
  },
  {
   "cell_type": "code",
   "execution_count": 3,
   "metadata": {},
   "outputs": [],
   "source": [
    "\n",
    "def show(rows, name_filter=None, n=10):\n",
    "    \"\"\"Display n politicians (default=10)\"\"\"\n",
    "    date_format = \"%Y-%m-%dT%H:%M:%SZ\"\n",
    "    if name_filter:\n",
    "        rows = [row for row in rows if name_filter in row['personLabel']['value'].lower()]\n",
    "    print(f\"Displaying the first {n}:\\n\")\n",
    "    for row in rows[:n]:\n",
    "        try:\n",
    "            birth_date = dt.strptime(row['dateBirth']['value'], date_format)\n",
    "            birth_year = birth_date.year\n",
    "        except ValueError:\n",
    "            birth_year = \"????\"\n",
    "        try:\n",
    "            death_date = dt.strptime(row['dateDeath']['value'], date_format)\n",
    "            death_year = death_date.year\n",
    "        except ValueError: # unknown death date\n",
    "            death_year = \"????\"\n",
    "        except KeyError: # still alive\n",
    "            death_year = \"\"\n",
    "        print(f\"{row['personLabel']['value']} ({birth_year}-{death_year})\")"
   ]
  },
  {
   "source": [
    "## Obtenir une liste des Distinctions reçus par les Rois belges depuis Wiki Data "
   ],
   "cell_type": "markdown",
   "metadata": {}
  },
  {
   "source": [
    "rows = get_rows()"
   ],
   "cell_type": "markdown",
   "metadata": {
    "tags": []
   }
  },
  {
   "source": [
    "show(rows, n=30)"
   ],
   "cell_type": "markdown",
   "metadata": {
    "tags": []
   }
  }
 ]
}